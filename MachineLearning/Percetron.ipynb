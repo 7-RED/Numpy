{
 "cells": [
  {
   "cell_type": "code",
   "execution_count": 1,
   "id": "interesting-sculpture",
   "metadata": {},
   "outputs": [],
   "source": [
    "import numpy as np"
   ]
  },
  {
   "cell_type": "code",
   "execution_count": 3,
   "id": "wired-album",
   "metadata": {},
   "outputs": [],
   "source": [
    "x_0 = np.arange(-1.0, 1.0, 0.2) \n",
    "x_1 = np.arange(-1.0, 1.0, 0.2) \n",
    "Z = np.zeros(100)"
   ]
  },
  {
   "cell_type": "code",
   "execution_count": 49,
   "id": "owned-boating",
   "metadata": {},
   "outputs": [],
   "source": [
    "w_x_0 = 2.0\n",
    "w_x_1 = 1.0\n",
    "bias = 0.1"
   ]
  },
  {
   "cell_type": "code",
   "execution_count": 50,
   "id": "weekly-russia",
   "metadata": {},
   "outputs": [],
   "source": [
    "for i in range(10):\n",
    "    for j in range(10):\n",
    "        u = x_0[i] * w_x_0 + x_1[j] * w_x_1 + bias \n",
    "        y = 1/(1+np.exp(-u))\n",
    "        Z[i *10 + j] = y"
   ]
  },
  {
   "cell_type": "code",
   "execution_count": 51,
   "id": "cellular-topic",
   "metadata": {},
   "outputs": [
    {
     "name": "stdout",
     "output_type": "stream",
     "text": [
      "[0.05215356 0.06297336 0.07585818 0.09112296 0.10909682 0.13010847\n",
      " 0.15446527 0.18242552 0.21416502 0.24973989 0.07585818 0.09112296\n",
      " 0.10909682 0.13010847 0.15446527 0.18242552 0.21416502 0.24973989\n",
      " 0.2890505  0.33181223 0.10909682 0.13010847 0.15446527 0.18242552\n",
      " 0.21416502 0.24973989 0.2890505  0.33181223 0.37754067 0.42555748\n",
      " 0.15446527 0.18242552 0.21416502 0.24973989 0.2890505  0.33181223\n",
      " 0.37754067 0.42555748 0.47502081 0.52497919 0.21416502 0.24973989\n",
      " 0.2890505  0.33181223 0.37754067 0.42555748 0.47502081 0.52497919\n",
      " 0.57444252 0.62245933 0.2890505  0.33181223 0.37754067 0.42555748\n",
      " 0.47502081 0.52497919 0.57444252 0.62245933 0.66818777 0.7109495\n",
      " 0.37754067 0.42555748 0.47502081 0.52497919 0.57444252 0.62245933\n",
      " 0.66818777 0.7109495  0.75026011 0.78583498 0.47502081 0.52497919\n",
      " 0.57444252 0.62245933 0.66818777 0.7109495  0.75026011 0.78583498\n",
      " 0.81757448 0.84553473 0.57444252 0.62245933 0.66818777 0.7109495\n",
      " 0.75026011 0.78583498 0.81757448 0.84553473 0.86989153 0.89090318\n",
      " 0.66818777 0.7109495  0.75026011 0.78583498 0.81757448 0.84553473\n",
      " 0.86989153 0.89090318 0.90887704 0.92414182]\n"
     ]
    }
   ],
   "source": [
    "print(Z)"
   ]
  },
  {
   "cell_type": "code",
   "execution_count": 52,
   "id": "located-wildlife",
   "metadata": {},
   "outputs": [
    {
     "data": {
      "image/png": "[encoded data removed]",
      "text/plain": [
       "<Figure size 432x288 with 2 Axes>"
      ]
     },
     "metadata": {
      "needs_background": "light"
     },
     "output_type": "display_data"
    }
   ],
   "source": [
    "import matplotlib.pyplot as plt\n",
    "plt.imshow(Z.reshape(10,10), \"gray\", vmin = 0.0, vmax =1.0) \n",
    "plt.colorbar()\n",
    "plt.show()"
   ]
  },
  {
   "cell_type": "code",
   "execution_count": null,
   "id": "acoustic-edgar",
   "metadata": {},
   "outputs": [],
   "source": []
  }
 ],
 "metadata": {
  "kernelspec": {
   "display_name": "Python 3",
   "language": "python",
   "name": "python3"
  },
  "language_info": {
   "codemirror_mode": {
    "name": "ipython",
    "version": 3
   },
   "file_extension": ".py",
   "mimetype": "text/x-python",
   "name": "python",
   "nbconvert_exporter": "python",
   "pygments_lexer": "ipython3",
   "version": "3.9.4"
  }
 },
 "nbformat": 4,
 "nbformat_minor": 5
}
