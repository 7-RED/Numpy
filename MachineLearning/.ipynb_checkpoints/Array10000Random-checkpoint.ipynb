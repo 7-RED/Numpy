{
 "cells": [
  {
   "cell_type": "code",
   "execution_count": 1,
   "id": "asian-battery",
   "metadata": {},
   "outputs": [],
   "source": [
    "import numpy"
   ]
  },
  {
   "cell_type": "code",
   "execution_count": 2,
   "id": "comic-swimming",
   "metadata": {},
   "outputs": [],
   "source": [
    "import matplotlib.pyplot as plt"
   ]
  },
  {
   "cell_type": "code",
   "execution_count": 3,
   "id": "unauthorized-insurance",
   "metadata": {},
   "outputs": [],
   "source": [
    "x = numpy.random.uniform(0.0, 5.0, 100000)"
   ]
  },
  {
   "cell_type": "code",
   "execution_count": 4,
   "id": "changing-hawaii",
   "metadata": {},
   "outputs": [
    {
     "data": {
      "text/plain": [
       "(array([ 979.,  992., 1038., 1001.,  995., 1025., 1059., 1018.,  941.,\n",
       "        1019.,  966.,  968., 1038.,  996., 1015.,  993.,  964., 1019.,\n",
       "         977., 1025.,  994., 1002., 1050.,  974., 1025.,  972.,  990.,\n",
       "         948.,  985., 1057., 1015., 1052.,  940., 1028.,  982.,  996.,\n",
       "         971., 1029.,  992.,  983., 1014.,  964.,  985.,  998., 1050.,\n",
       "         973., 1008.,  992., 1010.,  987.,  960., 1021.,  983., 1006.,\n",
       "         985.,  987., 1060., 1044.,  938., 1069., 1011.,  975., 1004.,\n",
       "         979., 1029.,  977.,  997.,  966., 1001.,  966., 1005.,  975.,\n",
       "         948.,  995., 1031.,  988.,  996.,  934., 1046.,  954., 1020.,\n",
       "        1050.,  983.,  979., 1067.,  990.,  974., 1017.,  976.,  965.,\n",
       "        1061., 1029.,  953.,  999., 1012., 1117., 1015.,  922., 1030.,\n",
       "        1017.]),\n",
       " array([1.85161655e-04, 5.01829966e-02, 1.00180832e-01, 1.50178666e-01,\n",
       "        2.00176501e-01, 2.50174336e-01, 3.00172171e-01, 3.50170006e-01,\n",
       "        4.00167841e-01, 4.50165676e-01, 5.00163511e-01, 5.50161346e-01,\n",
       "        6.00159181e-01, 6.50157016e-01, 7.00154851e-01, 7.50152686e-01,\n",
       "        8.00150521e-01, 8.50148356e-01, 9.00146191e-01, 9.50144026e-01,\n",
       "        1.00014186e+00, 1.05013970e+00, 1.10013753e+00, 1.15013537e+00,\n",
       "        1.20013320e+00, 1.25013104e+00, 1.30012887e+00, 1.35012671e+00,\n",
       "        1.40012454e+00, 1.45012238e+00, 1.50012021e+00, 1.55011804e+00,\n",
       "        1.60011588e+00, 1.65011371e+00, 1.70011155e+00, 1.75010938e+00,\n",
       "        1.80010722e+00, 1.85010505e+00, 1.90010289e+00, 1.95010072e+00,\n",
       "        2.00009856e+00, 2.05009639e+00, 2.10009423e+00, 2.15009206e+00,\n",
       "        2.20008990e+00, 2.25008773e+00, 2.30008557e+00, 2.35008340e+00,\n",
       "        2.40008124e+00, 2.45007907e+00, 2.50007691e+00, 2.55007474e+00,\n",
       "        2.60007258e+00, 2.65007041e+00, 2.70006825e+00, 2.75006608e+00,\n",
       "        2.80006392e+00, 2.85006175e+00, 2.90005959e+00, 2.95005742e+00,\n",
       "        3.00005526e+00, 3.05005309e+00, 3.10005093e+00, 3.15004876e+00,\n",
       "        3.20004660e+00, 3.25004443e+00, 3.30004227e+00, 3.35004010e+00,\n",
       "        3.40003794e+00, 3.45003577e+00, 3.50003361e+00, 3.55003144e+00,\n",
       "        3.60002928e+00, 3.65002711e+00, 3.70002495e+00, 3.75002278e+00,\n",
       "        3.80002062e+00, 3.85001845e+00, 3.90001629e+00, 3.95001412e+00,\n",
       "        4.00001196e+00, 4.05000979e+00, 4.10000763e+00, 4.15000546e+00,\n",
       "        4.20000330e+00, 4.25000113e+00, 4.29999897e+00, 4.34999680e+00,\n",
       "        4.39999464e+00, 4.44999247e+00, 4.49999031e+00, 4.54998814e+00,\n",
       "        4.59998598e+00, 4.64998381e+00, 4.69998165e+00, 4.74997948e+00,\n",
       "        4.79997732e+00, 4.84997515e+00, 4.89997299e+00, 4.94997082e+00,\n",
       "        4.99996866e+00]),\n",
       " <BarContainer object of 100 artists>)"
      ]
     },
     "execution_count": 4,
     "metadata": {},
     "output_type": "execute_result"
    },
    {
     "data": {
      "image/png": "[encoded data removed]",
      "text/plain": [
       "<Figure size 432x288 with 1 Axes>"
      ]
     },
     "metadata": {
      "needs_background": "light"
     },
     "output_type": "display_data"
    }
   ],
   "source": [
    "plt.hist(x, 100)"
   ]
  },
  {
   "cell_type": "code",
   "execution_count": 5,
   "id": "sunrise-yorkshire",
   "metadata": {},
   "outputs": [],
   "source": [
    "plt.show()"
   ]
  },
  {
   "cell_type": "code",
   "execution_count": null,
   "id": "creative-attachment",
   "metadata": {},
   "outputs": [],
   "source": []
  }
 ],
 "metadata": {
  "kernelspec": {
   "display_name": "Python 3",
   "language": "python",
   "name": "python3"
  },
  "language_info": {
   "codemirror_mode": {
    "name": "ipython",
    "version": 3
   },
   "file_extension": ".py",
   "mimetype": "text/x-python",
   "name": "python",
   "nbconvert_exporter": "python",
   "pygments_lexer": "ipython3",
   "version": "3.9.2"
  }
 },
 "nbformat": 4,
 "nbformat_minor": 5
}
