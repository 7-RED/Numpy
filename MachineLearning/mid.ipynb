{
 "cells": [
  {
   "cell_type": "code",
   "execution_count": 1,
   "id": "constitutional-feature",
   "metadata": {},
   "outputs": [],
   "source": [
    "import numpy as np\n",
    "import matplotlib.pyplot as plt "
   ]
  },
  {
   "cell_type": "code",
   "execution_count": 47,
   "id": "improving-attribute",
   "metadata": {},
   "outputs": [],
   "source": [
    "x_0 = np.arange(-1.0, 1.0, 0.2) \n",
    "x_1 = np.arange(-1.0, 1.0, 0.2) \n",
    "Z = np.zeros(100)\n",
    "w_im = np.array([[0.6,0.1,0.7],\n",
    "                 [0.5,0.4,0.2]]) \n",
    "w_mo = np.array([[1.0],\n",
    "                 [-1.0],\n",
    "                 [1.0]])\n",
    "b_im = np.array([0.1,-0.1,0.1]) \n",
    "b_mo = np.array([0.1])"
   ]
  },
  {
   "cell_type": "code",
   "execution_count": 48,
   "id": "hidden-clothing",
   "metadata": {},
   "outputs": [],
   "source": [
    "def middle_layer(x, w, b): \n",
    "    u = np.dot(x, w) + b \n",
    "    return 1/(1+np.exp(-u))"
   ]
  },
  {
   "cell_type": "code",
   "execution_count": 49,
   "id": "classified-triple",
   "metadata": {},
   "outputs": [],
   "source": [
    "def output_layer(x, w, b): \n",
    "    u = np.dot(x, w) + b \n",
    "    return u"
   ]
  },
  {
   "cell_type": "code",
   "execution_count": 50,
   "id": "entitled-custody",
   "metadata": {},
   "outputs": [],
   "source": [
    "for i in range(10): \n",
    "    for j in range(10):\n",
    "        inp = np.array([x_0[i], x_1[j]])\n",
    "        mid = middle_layer(inp, w_im, b_im) \n",
    "        out = output_layer(mid, w_mo, b_mo) \n",
    "        Z[i*10+j] = out[0]"
   ]
  },
  {
   "cell_type": "code",
   "execution_count": 51,
   "id": "dress-diesel",
   "metadata": {},
   "outputs": [
    {
     "data": {
      "image/png": "[encoded data removed]",
      "text/plain": [
       "<Figure size 432x288 with 2 Axes>"
      ]
     },
     "metadata": {
      "needs_background": "light"
     },
     "output_type": "display_data"
    }
   ],
   "source": [
    "plt.imshow(Z.reshape(10,10), \"gray\", vmin = 0.0, vmax = 1.0) \n",
    "plt.colorbar()\n",
    "plt.show()"
   ]
  },
  {
   "cell_type": "code",
   "execution_count": null,
   "id": "sporting-bargain",
   "metadata": {},
   "outputs": [],
   "source": []
  }
 ],
 "metadata": {
  "kernelspec": {
   "display_name": "Python 3",
   "language": "python",
   "name": "python3"
  },
  "language_info": {
   "codemirror_mode": {
    "name": "ipython",
    "version": 3
   },
   "file_extension": ".py",
   "mimetype": "text/x-python",
   "name": "python",
   "nbconvert_exporter": "python",
   "pygments_lexer": "ipython3",
   "version": "3.9.2"
  }
 },
 "nbformat": 4,
 "nbformat_minor": 5
}
