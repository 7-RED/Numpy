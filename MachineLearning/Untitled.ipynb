{
 "cells": [
  {
   "cell_type": "code",
   "execution_count": 1,
   "id": "suitable-commissioner",
   "metadata": {},
   "outputs": [
    {
     "data": {
      "image/png": "[encoded data removed]",
      "text/plain": [
       "<Figure size 432x288 with 2 Axes>"
      ]
     },
     "metadata": {
      "needs_background": "light"
     },
     "output_type": "display_data"
    }
   ],
   "source": [
    "import numpy as np\n",
    "import matplotlib.pyplot as plt \n",
    "std_schno='9A617042'\n",
    "\n",
    "arr=np.array([6,1,7,0,4,2])\n",
    "arr_new=arr[0:7]/10\n",
    "arr_new[3]=0.55\n",
    "\n",
    "\n",
    "x_0 = np.arange(-1.0, 1.0, 0.2) \n",
    "x_1 = np.arange(-1.0, 1.0, 0.2) \n",
    "Z = np.zeros(100)\n",
    "w_im = arr_new.reshape(2,3)\n",
    "w_mo = np.array([[0.4],\n",
    "                 [0.5],\n",
    "                 [-0.3]])\n",
    "b_im = np.array([0.6,0.3,-0.4]) \n",
    "b_mo = np.array([0.2])\n",
    "def middle_layer(x, w, b): \n",
    "    u = np.dot(x, w) + b \n",
    "    return 1/(1+np.exp(-u))\n",
    "def output_layer(x, w, b): \n",
    "    u = np.dot(x, w) + b \n",
    "    return u\n",
    "for i in range(10): \n",
    "    for j in range(10):\n",
    "        inp = np.array([x_0[i], x_1[j]])\n",
    "        mid = middle_layer(inp, w_im, b_im) \n",
    "        out = output_layer(mid, w_mo, b_mo) \n",
    "        Z[i*10+j] = out[0]\n",
    "plt.imshow(Z.reshape(10,10), \"gray\", vmin = 0.0, vmax = 1.0) \n",
    "plt.colorbar()\n",
    "plt.show()"
   ]
  },
  {
   "cell_type": "code",
   "execution_count": null,
   "id": "broken-malpractice",
   "metadata": {},
   "outputs": [],
   "source": []
  }
 ],
 "metadata": {
  "kernelspec": {
   "display_name": "Python 3",
   "language": "python",
   "name": "python3"
  },
  "language_info": {
   "codemirror_mode": {
    "name": "ipython",
    "version": 3
   },
   "file_extension": ".py",
   "mimetype": "text/x-python",
   "name": "python",
   "nbconvert_exporter": "python",
   "pygments_lexer": "ipython3",
   "version": "3.9.4"
  }
 },
 "nbformat": 4,
 "nbformat_minor": 5
}
