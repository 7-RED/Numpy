{
 "cells": [
  {
   "cell_type": "code",
   "execution_count": 3,
   "id": "temporal-environment",
   "metadata": {},
   "outputs": [
    {
     "name": "stdout",
     "output_type": "stream",
     "text": [
      "[[0.   0.   0.   0.   0.   0.   0.   1.   0.   0.  ]\n",
      " [0.02 0.   0.   0.   0.   0.35 0.   0.   0.   0.  ]\n",
      " [0.   0.99 0.   0.   0.   0.01 0.   0.01 0.   0.  ]\n",
      " [0.7  0.   0.   0.02 0.   0.   0.   0.   0.   0.  ]\n",
      " [0.   0.   0.   0.   0.94 0.   0.   0.   0.   0.  ]\n",
      " [0.   1.   0.   0.01 0.   0.   0.   0.01 0.   0.  ]\n",
      " [0.   0.   0.   0.   0.97 0.2  0.   0.01 0.   0.13]\n",
      " [0.   0.   0.   0.   0.   0.   0.   0.   0.   0.05]\n",
      " [0.   0.   0.   0.   0.06 0.   0.   0.   0.   0.  ]\n",
      " [0.   0.   0.   0.   0.01 0.   0.   0.35 0.   0.06]]\n",
      "[[0. 0. 0. 0. 0. 0. 0. 1. 0. 0.]\n",
      " [0. 0. 1. 0. 0. 0. 0. 0. 0. 0.]\n",
      " [0. 1. 0. 0. 0. 0. 0. 0. 0. 0.]\n",
      " [1. 0. 0. 0. 0. 0. 0. 0. 0. 0.]\n",
      " [0. 0. 0. 0. 1. 0. 0. 0. 0. 0.]\n",
      " [0. 1. 0. 0. 0. 0. 0. 0. 0. 0.]\n",
      " [0. 0. 0. 0. 1. 0. 0. 0. 0. 0.]\n",
      " [0. 0. 0. 0. 0. 0. 0. 0. 0. 1.]\n",
      " [0. 0. 0. 0. 0. 1. 0. 0. 0. 0.]\n",
      " [0. 0. 0. 0. 0. 0. 0. 0. 0. 1.]]\n"
     ]
    }
   ],
   "source": [
    "import numpy as np\n",
    "import neuralnet as nl\n",
    "import load_mnist as lm\n",
    "#import matplotlib.pyplot as plt\n",
    "dataset=lm.load_mnist()\n",
    "#print(dataset['x_train'][0])\n",
    "x_train=dataset['x_train']\n",
    "y_train=dataset['y_train']\n",
    "x_test=dataset['x_test']\n",
    "y_test=dataset['y_test']\n",
    "#print(x_test)\n",
    "w_list,b_list=nl.make_params([784,100,10])\n",
    "eta=2.0\n",
    "for epoch in range(10):\n",
    "    ra=np.random.randint(60000,size=60000)\n",
    "    for i in range(60):\n",
    "        x_batch=x_train[ra[i*1000:(i+1)*1000],:]\n",
    "        y_batch=y_train[ra[i*1000:(i+1)*1000],:]\n",
    "        w_list,b_list=nl.update(x_batch,w_list,b_list,y_batch,eta)\n",
    "\n",
    "val_dict=nl.calculate(x_test,w_list,b_list)\n",
    "print(val_dict['y_2'][0:10].round(2))\n",
    "print(y_test[0:10])\n",
    "\n",
    "#plt.imshow(dataset['x_test'][8].reshape(28,28),cmap=\"gray\")\n"
   ]
  },
  {
   "cell_type": "code",
   "execution_count": null,
   "id": "fitting-flour",
   "metadata": {},
   "outputs": [],
   "source": []
  }
 ],
 "metadata": {
  "kernelspec": {
   "display_name": "Python 3",
   "language": "python",
   "name": "python3"
  },
  "language_info": {
   "codemirror_mode": {
    "name": "ipython",
    "version": 3
   },
   "file_extension": ".py",
   "mimetype": "text/x-python",
   "name": "python",
   "nbconvert_exporter": "python",
   "pygments_lexer": "ipython3",
   "version": "3.9.4"
  }
 },
 "nbformat": 4,
 "nbformat_minor": 5
}
