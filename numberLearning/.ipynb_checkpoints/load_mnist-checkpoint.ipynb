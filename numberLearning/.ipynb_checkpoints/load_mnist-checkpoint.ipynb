{
 "cells": [
  {
   "cell_type": "code",
   "execution_count": 3,
   "id": "legitimate-attempt",
   "metadata": {},
   "outputs": [],
   "source": [
    "import numpy as np\n",
    "import gzip\n",
    "key_file={'x_train':'train-images-idx3-ubyte.gz',\n",
    "          'y_train':'train-labels-idx1-ubyte.gz',\n",
    "          'x_test':'t10k-images-idx3-ubyte.gz',\n",
    "          'y_test':'t10k-labels-idx1-ubyte.gz'\n",
    "          }\n",
    "def load_image(file_name):\n",
    "    file_path=file_name\n",
    "    with gzip.open(file_path,'rb') as f:\n",
    "         images=np.frombuffer(f.read(),np.uint8,offset=16)\n",
    "    return images\n",
    "\n",
    "def load_label(file_name):\n",
    "    file_path=file_name\n",
    "    with gzip.open(file_path,'rb') as f:\n",
    "        labels=np.frombuffer(f.read(),np.uint8,offset=8)\n",
    "        one_hot_labels=np.zeros((labels.shape[0],10))\n",
    "        for i in range(labels.shape[0]):\n",
    "            one_hot_labels[i,labels[i]]=1\n",
    "    return one_hot_labels\n",
    "\n",
    "def convert_into_numpy(key_file):\n",
    "    dataset={}\n",
    "    dataset['x_train']=load_image(key_file['x_train'])\n",
    "    dataset['y_train']=load_label(key_file['y_train'])        \n",
    "    dataset['x_test']=load_image(key_file['x_test'])\n",
    "    dataset['y_test']=load_label(key_file['y_test'])\n",
    "    return dataset\n",
    "\n",
    "def load_mnist():\n",
    "    dataset=convert_into_numpy(key_file)\n",
    "    dataset['x_train']=dataset['x_train'].astype(np.float32)\n",
    "    dataset['x_test']=dataset['x_test'].astype(np.float32)\n",
    "    dataset['x_train']/=255.0\n",
    "    dataset['x_test']/=255.0\n",
    "    dataset['x_train']=dataset['x_train'].reshape(-1,28*28)\n",
    "    dataset['x_test']=dataset['x_test'].reshape(-1,28*28)\n",
    "    return dataset"
   ]
  },
  {
   "cell_type": "code",
   "execution_count": null,
   "id": "respective-slide",
   "metadata": {},
   "outputs": [],
   "source": []
  }
 ],
 "metadata": {
  "kernelspec": {
   "display_name": "Python 3",
   "language": "python",
   "name": "python3"
  },
  "language_info": {
   "codemirror_mode": {
    "name": "ipython",
    "version": 3
   },
   "file_extension": ".py",
   "mimetype": "text/x-python",
   "name": "python",
   "nbconvert_exporter": "python",
   "pygments_lexer": "ipython3",
   "version": "3.9.4"
  }
 },
 "nbformat": 4,
 "nbformat_minor": 5
}
