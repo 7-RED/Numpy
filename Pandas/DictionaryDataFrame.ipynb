{
 "cells": [
  {
   "cell_type": "code",
   "execution_count": 1,
   "id": "dental-newsletter",
   "metadata": {},
   "outputs": [],
   "source": [
    "import pandas as pd"
   ]
  },
  {
   "cell_type": "code",
   "execution_count": 2,
   "id": "appointed-relief",
   "metadata": {},
   "outputs": [],
   "source": [
    "data = {\n",
    "  \"Duration\":{\"0\":60,\"1\":60,\"2\":60,\"3\":45,\n",
    "\"4\":45,\"5\":60},\n",
    "  \"Pulse\":{\"0\":110,\"1\":117,\"2\":103,\"3\":109,\n",
    "\"4\":117,\"5\":102},\n",
    "  \"Maxpulse\":{\"0\":130,\"1\":145,\"2\":135,\"3\":175,\n",
    "\"4\":148,\"5\":127},\n",
    "  \"Calories\":{\"0\":409,\"1\":479,\"2\":340,\"3\":282,\n",
    "\"4\":406,\"5\":300\n",
    "  }\n",
    "}"
   ]
  },
  {
   "cell_type": "code",
   "execution_count": 3,
   "id": "coordinate-invitation",
   "metadata": {},
   "outputs": [],
   "source": [
    "df = pd.DataFrame(data)"
   ]
  },
  {
   "cell_type": "code",
   "execution_count": 4,
   "id": "former-auditor",
   "metadata": {},
   "outputs": [
    {
     "name": "stdout",
     "output_type": "stream",
     "text": [
      "   Duration  Pulse  Maxpulse  Calories\n",
      "0        60    110       130       409\n",
      "1        60    117       145       479\n",
      "2        60    103       135       340\n",
      "3        45    109       175       282\n",
      "4        45    117       148       406\n",
      "5        60    102       127       300\n"
     ]
    }
   ],
   "source": [
    "print(df)"
   ]
  },
  {
   "cell_type": "code",
   "execution_count": null,
   "id": "helpful-library",
   "metadata": {},
   "outputs": [],
   "source": []
  }
 ],
 "metadata": {
  "kernelspec": {
   "display_name": "Python 3",
   "language": "python",
   "name": "python3"
  },
  "language_info": {
   "codemirror_mode": {
    "name": "ipython",
    "version": 3
   },
   "file_extension": ".py",
   "mimetype": "text/x-python",
   "name": "python",
   "nbconvert_exporter": "python",
   "pygments_lexer": "ipython3",
   "version": "3.9.2"
  }
 },
 "nbformat": 4,
 "nbformat_minor": 5
}
