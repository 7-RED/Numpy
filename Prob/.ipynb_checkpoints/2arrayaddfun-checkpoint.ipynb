{
 "cells": [
  {
   "cell_type": "code",
   "execution_count": 1,
   "id": "every-being",
   "metadata": {},
   "outputs": [],
   "source": [
    "import numpy as np"
   ]
  },
  {
   "cell_type": "code",
   "execution_count": 2,
   "id": "freelance-jaguar",
   "metadata": {},
   "outputs": [],
   "source": [
    "arr1 = np.array([10, 11, 12, 13, 14, 15])\n",
    "arr2 = np.array([20, 21, 22, 23, 24, 25])"
   ]
  },
  {
   "cell_type": "code",
   "execution_count": 3,
   "id": "obvious-craft",
   "metadata": {},
   "outputs": [],
   "source": [
    "newarr = np.add(arr1, arr2)"
   ]
  },
  {
   "cell_type": "code",
   "execution_count": 4,
   "id": "wound-easter",
   "metadata": {},
   "outputs": [
    {
     "name": "stdout",
     "output_type": "stream",
     "text": [
      "[30 32 34 36 38 40]\n"
     ]
    }
   ],
   "source": [
    "print(newarr)"
   ]
  },
  {
   "cell_type": "code",
   "execution_count": 5,
   "id": "bridal-harvey",
   "metadata": {},
   "outputs": [
    {
     "name": "stdout",
     "output_type": "stream",
     "text": [
      "[30 32 34 36 38 40]\n"
     ]
    }
   ],
   "source": [
    "print(arr1+arr2)"
   ]
  },
  {
   "cell_type": "code",
   "execution_count": null,
   "id": "velvet-board",
   "metadata": {},
   "outputs": [],
   "source": []
  }
 ],
 "metadata": {
  "kernelspec": {
   "display_name": "Python 3",
   "language": "python",
   "name": "python3"
  },
  "language_info": {
   "codemirror_mode": {
    "name": "ipython",
    "version": 3
   },
   "file_extension": ".py",
   "mimetype": "text/x-python",
   "name": "python",
   "nbconvert_exporter": "python",
   "pygments_lexer": "ipython3",
   "version": "3.9.2"
  }
 },
 "nbformat": 4,
 "nbformat_minor": 5
}
