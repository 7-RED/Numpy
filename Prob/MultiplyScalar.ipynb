{
 "cells": [
  {
   "cell_type": "code",
   "execution_count": 1,
   "id": "neutral-location",
   "metadata": {},
   "outputs": [],
   "source": [
    "import numpy as np"
   ]
  },
  {
   "cell_type": "code",
   "execution_count": 2,
   "id": "underlying-matthew",
   "metadata": {},
   "outputs": [
    {
     "name": "stdout",
     "output_type": "stream",
     "text": [
      "[[ 20  40  60  80 100 120]\n",
      " [  6  14  18  16   4  66]]\n"
     ]
    }
   ],
   "source": [
    "c=2\n",
    "arr = np.array([[10, 20, 30, 40, 50, 60],[3, 7, 9, 8, 2, 33]])\n",
    "print(c*arr)"
   ]
  },
  {
   "cell_type": "code",
   "execution_count": null,
   "id": "intelligent-sterling",
   "metadata": {},
   "outputs": [],
   "source": []
  }
 ],
 "metadata": {
  "kernelspec": {
   "display_name": "Python 3",
   "language": "python",
   "name": "python3"
  },
  "language_info": {
   "codemirror_mode": {
    "name": "ipython",
    "version": 3
   },
   "file_extension": ".py",
   "mimetype": "text/x-python",
   "name": "python",
   "nbconvert_exporter": "python",
   "pygments_lexer": "ipython3",
   "version": "3.9.2"
  }
 },
 "nbformat": 4,
 "nbformat_minor": 5
}
